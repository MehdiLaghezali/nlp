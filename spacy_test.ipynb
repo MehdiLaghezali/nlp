{
 "cells": [
  {
   "cell_type": "code",
   "execution_count": 6,
   "id": "69ff8c23",
   "metadata": {},
   "outputs": [
    {
     "name": "stdout",
     "output_type": "stream",
     "text": [
      "['Perhaps', 'one', 'of', 'the', 'most', 'significant', 'advances', 'made', 'by', 'Arabic', 'mathematics', 'began', 'at', 'this', 'time', 'with', 'the', 'work', 'of', 'al', '-', 'Khwarizmi', ',', 'namely', 'the', 'beginnings', 'of', 'algebra', '.', 'It', 'is', 'important', 'to', 'understand', 'just', 'how', 'significant', 'this', 'new', 'idea', 'was', '.', 'It', 'was', 'a', 'revolutionary', 'move', 'away', 'from', 'the', 'Greek', 'concept', 'of', 'mathematics', 'which', 'was', 'essentially', 'geometry', '.', 'Algebra', 'was', 'a', 'unifying', 'theory', 'which', 'allowed', 'rational', 'numbers', ',', 'irrational', 'numbers', ',', 'geometrical', 'magnitudes', ',', 'etc', '.', ',', 'to', 'all', 'be', 'treated', 'as', 'algebraic', 'objects', '.', 'It', 'gave', 'mathematics', 'a', 'whole', 'new', 'development', 'path', 'so', 'much', 'broader', 'in', 'concept', 'to', 'that', 'which', 'had', 'existed', 'before', ',', 'and', 'provided', 'a', 'vehicle', 'for', 'future', 'development', 'of', 'the', 'subject', '.', 'Another', 'important', 'aspect', 'of', 'the', 'introduction', 'of', 'algebraic', 'ideas', 'was', 'that', 'it', 'allowed', 'mathematics', 'to', 'be', 'applied', 'to', 'itselfin', 'a', 'way', 'which', 'had', 'not', 'happened', 'before', '.']\n",
      "\n",
      "\n",
      "\n",
      "[['Perhaps', 'perhaps'], ['one', 'one'], ['of', 'of'], ['the', 'the'], ['most', 'most'], ['significant', 'significant'], ['advances', 'advance'], ['made', 'make'], ['by', 'by'], ['Arabic', 'arabic'], ['mathematics', 'mathematic'], ['began', 'begin'], ['at', 'at'], ['this', 'this'], ['time', 'time'], ['with', 'with'], ['the', 'the'], ['work', 'work'], ['of', 'of'], ['al', 'al'], ['-', '-'], ['Khwarizmi', 'Khwarizmi'], [',', ','], ['namely', 'namely'], ['the', 'the'], ['beginnings', 'beginning'], ['of', 'of'], ['algebra', 'algebra'], ['.', '.'], ['It', 'it'], ['is', 'be'], ['important', 'important'], ['to', 'to'], ['understand', 'understand'], ['just', 'just'], ['how', 'how'], ['significant', 'significant'], ['this', 'this'], ['new', 'new'], ['idea', 'idea'], ['was', 'be'], ['.', '.'], ['It', 'it'], ['was', 'be'], ['a', 'a'], ['revolutionary', 'revolutionary'], ['move', 'move'], ['away', 'away'], ['from', 'from'], ['the', 'the'], ['Greek', 'greek'], ['concept', 'concept'], ['of', 'of'], ['mathematics', 'mathematic'], ['which', 'which'], ['was', 'be'], ['essentially', 'essentially'], ['geometry', 'geometry'], ['.', '.'], ['Algebra', 'Algebra'], ['was', 'be'], ['a', 'a'], ['unifying', 'unifying'], ['theory', 'theory'], ['which', 'which'], ['allowed', 'allow'], ['rational', 'rational'], ['numbers', 'number'], [',', ','], ['irrational', 'irrational'], ['numbers', 'number'], [',', ','], ['geometrical', 'geometrical'], ['magnitudes', 'magnitude'], [',', ','], ['etc', 'etc'], ['.', '.'], [',', ','], ['to', 'to'], ['all', 'all'], ['be', 'be'], ['treated', 'treat'], ['as', 'as'], ['algebraic', 'algebraic'], ['objects', 'object'], ['.', '.'], ['It', 'it'], ['gave', 'give'], ['mathematics', 'mathematic'], ['a', 'a'], ['whole', 'whole'], ['new', 'new'], ['development', 'development'], ['path', 'path'], ['so', 'so'], ['much', 'much'], ['broader', 'broad'], ['in', 'in'], ['concept', 'concept'], ['to', 'to'], ['that', 'that'], ['which', 'which'], ['had', 'have'], ['existed', 'exist'], ['before', 'before'], [',', ','], ['and', 'and'], ['provided', 'provide'], ['a', 'a'], ['vehicle', 'vehicle'], ['for', 'for'], ['future', 'future'], ['development', 'development'], ['of', 'of'], ['the', 'the'], ['subject', 'subject'], ['.', '.'], ['Another', 'another'], ['important', 'important'], ['aspect', 'aspect'], ['of', 'of'], ['the', 'the'], ['introduction', 'introduction'], ['of', 'of'], ['algebraic', 'algebraic'], ['ideas', 'idea'], ['was', 'be'], ['that', 'that'], ['it', 'it'], ['allowed', 'allow'], ['mathematics', 'mathematic'], ['to', 'to'], ['be', 'be'], ['applied', 'apply'], ['to', 'to'], ['itselfin', 'itselfin'], ['a', 'a'], ['way', 'way'], ['which', 'which'], ['had', 'have'], ['not', 'not'], ['happened', 'happen'], ['before', 'before'], ['.', '.']]\n",
      "\n",
      "\n",
      "\n",
      "{'’d', 'side', 'still', 'from', 'neither', 'whole', 'sixty', 'beforehand', \"'re\", 'made', 'anyone', 'nor', '‘ll', 'except', 'name', 'rather', 'three', 'however', 'seem', 'has', 'did', 'anywhere', 'eight', 'is', 'thence', 'unless', 'who', 'done', 'to', \"'s\", 'my', 'his', 'where', 'part', \"n't\", 'as', 'too', 'ever', 'meanwhile', 'regarding', 'last', 'how', 'during', 'had', 'perhaps', 'other', '’ll', 'all', 'into', 'nothing', 'empty', 'more', 'wherever', 'thereupon', 'behind', 'whenever', 'i', 'itself', 'yourself', 'there', 'us', 'beside', 'though', 'everywhere', 'indeed', 'whence', 'latter', 'ours', 'onto', 'full', 'was', 'hereafter', 'own', 'ourselves', 'least', 'please', 'others', 'it', 'no', 'well', 'each', 'of', 'do', 'otherwise', 'while', 'next', 'could', 'seemed', 'eleven', 'four', 'are', 'show', 'say', 'seems', 'up', 'thereafter', 'than', 'any', 'nine', 'always', \"'d\", 'become', 'within', 'hereby', 'hundred', '’m', 'formerly', 'him', 'cannot', 'the', \"'ll\", 'twelve', 'per', 'a', 'many', 'n’t', 'often', 'whoever', 'we', 'around', 'yours', 'hers', 'toward', 'our', \"'ve\", 'her', 'due', 'something', 'fifteen', '‘s', 'whether', 'whom', 'towards', 'between', 'less', 'became', 'yourselves', 'herein', 'both', 'go', 'himself', 'put', 'until', 'amount', 'together', 'nowhere', 'without', 'already', 'somehow', 'another', 'under', 'by', 'see', 'those', 'further', '‘re', 'against', 'beyond', 'one', 'whereas', 'keep', 'forty', 'namely', 'so', 'get', 'been', 'n‘t', 'be', 'being', 'whereafter', 'me', 'elsewhere', 'never', 'may', 'or', 'give', 'front', 'along', 'quite', 'enough', 'must', 'you', 'down', 'also', 'which', 'seeming', 'thru', 'ca', 'if', 'make', 'she', 'whither', 'these', 'fifty', 'same', 'nevertheless', '‘ve', 'sometime', 'either', 'several', 'here', 'twenty', 'moreover', 'back', 'myself', 'whereby', 'their', 'serious', 'yet', 'throughout', 'noone', 'after', 'using', 'that', 'somewhere', 'will', 'hence', 'on', 'upon', 'take', '‘d', 'your', 'six', 'five', 'when', 'off', 'before', 'can', 'anyway', 'mine', 'ten', 'mostly', 'most', 'not', 'whereupon', 'again', 'none', 'now', 'therein', 'move', 'at', 'hereupon', 'doing', 'am', 'he', 'former', 'but', 'really', 'because', 'have', 'wherein', 'why', 'does', 'through', 'over', 'whose', 'below', 'just', 'everyone', \"'m\", '’s', 'used', 'everything', 'only', 'them', 'thereby', '‘m', 'this', 'would', 'its', 'themselves', 'besides', 'amongst', 'third', 'latterly', 'in', 'becomes', 'almost', 'therefore', 'bottom', 'across', 'might', 'among', 'although', 'once', 'someone', '’re', 'about', 'with', 'via', 'then', 'and', 'two', 'even', 'anything', 'nobody', 'very', 'above', 'since', '’ve', 'anyhow', 'call', 'an', 'were', 'they', 'whatever', 'afterwards', 'such', 'alone', 'becoming', 'every', 'out', 'top', 'various', 'few', 'much', 'else', 'some', 'first', 'should', 'what', 'herself', 'sometimes', 're', 'for', 'thus'}\n",
      "\n",
      "\n",
      "\n",
      "['significant', 'advances', 'Arabic', 'mathematics', 'began', 'time', 'work', 'al', 'Khwarizmi', 'beginnings', 'algebra', 'important', 'understand', 'significant', 'new', 'idea', 'revolutionary', 'away', 'Greek', 'concept', 'mathematics', 'essentially', 'geometry', 'Algebra', 'unifying', 'theory', 'allowed', 'rational', 'numbers', 'irrational', 'numbers', 'geometrical', 'magnitudes', 'etc', 'treated', 'algebraic', 'objects', 'gave', 'mathematics', 'new', 'development', 'path', 'broader', 'concept', 'existed', 'provided', 'vehicle', 'future', 'development', 'subject', 'important', 'aspect', 'introduction', 'algebraic', 'ideas', 'allowed', 'mathematics', 'applied', 'itselfin', 'way', 'happened']\n",
      "[['Perhaps', 'ADV'], ['one', 'NUM'], ['of', 'ADP'], ['the', 'DET'], ['most', 'ADV'], ['significant', 'ADJ'], ['advances', 'NOUN'], ['made', 'VERB'], ['by', 'ADP'], ['Arabic', 'ADJ'], ['mathematics', 'NOUN'], ['began', 'VERB'], ['at', 'ADP'], ['this', 'DET'], ['time', 'NOUN'], ['with', 'ADP'], ['the', 'DET'], ['work', 'NOUN'], ['of', 'ADP'], ['al', 'PROPN'], ['-', 'PUNCT'], ['Khwarizmi', 'PROPN'], [',', 'PUNCT'], ['namely', 'ADV'], ['the', 'DET'], ['beginnings', 'NOUN'], ['of', 'ADP'], ['algebra', 'NOUN'], ['.', 'PUNCT'], ['It', 'PRON'], ['is', 'AUX'], ['important', 'ADJ'], ['to', 'PART'], ['understand', 'VERB'], ['just', 'ADV'], ['how', 'ADV'], ['significant', 'ADJ'], ['this', 'DET'], ['new', 'ADJ'], ['idea', 'NOUN'], ['was', 'AUX'], ['.', 'PUNCT'], ['It', 'PRON'], ['was', 'AUX'], ['a', 'DET'], ['revolutionary', 'ADJ'], ['move', 'NOUN'], ['away', 'ADV'], ['from', 'ADP'], ['the', 'DET'], ['Greek', 'ADJ'], ['concept', 'NOUN'], ['of', 'ADP'], ['mathematics', 'NOUN'], ['which', 'DET'], ['was', 'VERB'], ['essentially', 'ADV'], ['geometry', 'NOUN'], ['.', 'PUNCT'], ['Algebra', 'PROPN'], ['was', 'AUX'], ['a', 'DET'], ['unifying', 'ADJ'], ['theory', 'NOUN'], ['which', 'DET'], ['allowed', 'VERB'], ['rational', 'ADJ'], ['numbers', 'NOUN'], [',', 'PUNCT'], ['irrational', 'ADJ'], ['numbers', 'NOUN'], [',', 'PUNCT'], ['geometrical', 'ADJ'], ['magnitudes', 'NOUN'], [',', 'PUNCT'], ['etc', 'X'], ['.', 'X'], [',', 'PUNCT'], ['to', 'ADP'], ['all', 'DET'], ['be', 'AUX'], ['treated', 'VERB'], ['as', 'ADP'], ['algebraic', 'ADJ'], ['objects', 'NOUN'], ['.', 'PUNCT'], ['It', 'PRON'], ['gave', 'VERB'], ['mathematics', 'NOUN'], ['a', 'DET'], ['whole', 'ADJ'], ['new', 'ADJ'], ['development', 'NOUN'], ['path', 'NOUN'], ['so', 'ADV'], ['much', 'ADV'], ['broader', 'ADJ'], ['in', 'ADP'], ['concept', 'NOUN'], ['to', 'ADP'], ['that', 'DET'], ['which', 'DET'], ['had', 'AUX'], ['existed', 'VERB'], ['before', 'ADV'], [',', 'PUNCT'], ['and', 'CCONJ'], ['provided', 'VERB'], ['a', 'DET'], ['vehicle', 'NOUN'], ['for', 'ADP'], ['future', 'ADJ'], ['development', 'NOUN'], ['of', 'ADP'], ['the', 'DET'], ['subject', 'NOUN'], ['.', 'PUNCT'], ['Another', 'DET'], ['important', 'ADJ'], ['aspect', 'NOUN'], ['of', 'ADP'], ['the', 'DET'], ['introduction', 'NOUN'], ['of', 'ADP'], ['algebraic', 'ADJ'], ['ideas', 'NOUN'], ['was', 'AUX'], ['that', 'SCONJ'], ['it', 'PRON'], ['allowed', 'VERB'], ['mathematics', 'NOUN'], ['to', 'PART'], ['be', 'AUX'], ['applied', 'VERB'], ['to', 'PART'], ['itselfin', 'VERB'], ['a', 'DET'], ['way', 'NOUN'], ['which', 'DET'], ['had', 'AUX'], ['not', 'PART'], ['happened', 'VERB'], ['before', 'ADV'], ['.', 'PUNCT']]\n"
     ]
    }
   ],
   "source": [
    "import spacy\n",
    "from spacy.lang.en.stop_words import STOP_WORDS\n",
    "from spacy.lang.ar import Arabic\n",
    "\n",
    "\n",
    "nlp = spacy.load(\"en_core_web_sm\")\n",
    "\n",
    "x=\"Perhaps one of the most significant advances made by Arabic mathematics began at this time with the work of al-Khwarizmi, namely the beginnings of algebra. It is important to understand just how significant this new idea was. It was a revolutionary move away from the Greek concept of mathematics which was essentially geometry. Algebra was a unifying theory which allowed rational numbers,irrational numbers, geometrical magnitudes, etc., to all be treated as algebraic objects. It gave mathematics a whole new development path so much broader in concept to that which had existed before, and provided a vehicle for future development of the subject. Another important aspect of the introduction of algebraic ideas was that it allowed mathematics to be applied to itselfin a way which had not happened before.\"\n",
    "\n",
    "doc= nlp(x)\n",
    "\n",
    "tokens = [token.text for token in doc]\n",
    "\n",
    "print(tokens)\n",
    "print(\"\\n\\n\")\n",
    "lemma= [[token.text,token.lemma_] for token in doc]\n",
    "print(lemma)\n",
    "print(\"\\n\\n\")\n",
    "\n",
    "stop = STOP_WORDS\n",
    "print(stop)\n",
    "print(\"\\n\\n\")\n",
    "\n",
    "filtered = [token.text for token in doc if token.is_stop==False and token.text.isalpha()==True]\n",
    "print(filtered)\n",
    "\n",
    "\n",
    "pos=[[token.text,token.pos_] for token in doc]\n",
    "print(pos)\n",
    "\n",
    "\n",
    "\n"
   ]
  },
  {
   "cell_type": "code",
   "execution_count": 4,
   "id": "e5394448",
   "metadata": {},
   "outputs": [
    {
     "name": "stdout",
     "output_type": "stream",
     "text": [
      "['ربما', 'كانت', 'أحد', 'أهم', 'التطورات', 'التي', 'قامت', 'بها', 'الرياضيات', 'العربية', 'التي', 'بدأت', 'في', 'هذا', 'الوقت', 'بعمل', 'الخوارزمي', 'و', 'هي', 'بدايات', 'الجبر', '،', 'و', 'من', 'المهم', 'فهم', 'كيف', 'كانت', 'هذه', 'الفكرة', 'الجديدة', 'مهمة', '،', 'فقد', 'كانت', 'خطوة', 'ثورية', 'بعيدا', 'عن', 'المفهوم', 'اليوناني', 'للرياضيات', 'التي', 'هي', 'في', 'جوهرها', 'هندسة', '،', 'الجبر', 'كان', 'نظرية', 'موحدة', 'تتيح', 'الأعداد', 'الكسرية', 'و', 'الأعداد', 'اللا', 'كسرية', '،', 'و', 'قدم', 'وسيلة', 'للتنمية', 'في', 'هذا', 'الموضوع', 'مستقبلا', '.', 'و', 'جانب', 'آخر', 'مهم', 'لإدخال', 'أفكار', 'الجبر', 'و', 'هو', 'أنه', 'سمح', 'بتطبيق', 'الرياضيات', 'على', 'نفسها', 'بطريقة', 'لم', 'تحدث', 'من', 'قبل']\n",
      "\n",
      "\n",
      "\n",
      "[['ربما', ''], ['كانت', ''], ['أحد', ''], ['أهم', ''], ['التطورات', ''], ['التي', ''], ['قامت', ''], ['بها', ''], ['الرياضيات', ''], ['العربية', ''], ['التي', ''], ['بدأت', ''], ['في', ''], ['هذا', ''], ['الوقت', ''], ['بعمل', ''], ['الخوارزمي', ''], ['و', ''], ['هي', ''], ['بدايات', ''], ['الجبر', ''], ['،', ''], ['و', ''], ['من', ''], ['المهم', ''], ['فهم', ''], ['كيف', ''], ['كانت', ''], ['هذه', ''], ['الفكرة', ''], ['الجديدة', ''], ['مهمة', ''], ['،', ''], ['فقد', ''], ['كانت', ''], ['خطوة', ''], ['ثورية', ''], ['بعيدا', ''], ['عن', ''], ['المفهوم', ''], ['اليوناني', ''], ['للرياضيات', ''], ['التي', ''], ['هي', ''], ['في', ''], ['جوهرها', ''], ['هندسة', ''], ['،', ''], ['الجبر', ''], ['كان', ''], ['نظرية', ''], ['موحدة', ''], ['تتيح', ''], ['الأعداد', ''], ['الكسرية', ''], ['و', ''], ['الأعداد', ''], ['اللا', ''], ['كسرية', ''], ['،', ''], ['و', ''], ['قدم', ''], ['وسيلة', ''], ['للتنمية', ''], ['في', ''], ['هذا', ''], ['الموضوع', ''], ['مستقبلا', ''], ['.', ''], ['و', ''], ['جانب', ''], ['آخر', ''], ['مهم', ''], ['لإدخال', ''], ['أفكار', ''], ['الجبر', ''], ['و', ''], ['هو', ''], ['أنه', ''], ['سمح', ''], ['بتطبيق', ''], ['الرياضيات', ''], ['على', ''], ['نفسها', ''], ['بطريقة', ''], ['لم', ''], ['تحدث', ''], ['من', ''], ['قبل', '']]\n",
      "\n",
      "\n",
      "\n",
      "['ربما', 'أهم', 'التطورات', 'قامت', 'الرياضيات', 'العربية', 'بدأت', 'الوقت', 'بعمل', 'الخوارزمي', 'بدايات', 'الجبر', 'المهم', 'فهم', 'الفكرة', 'الجديدة', 'مهمة', 'خطوة', 'ثورية', 'بعيدا', 'المفهوم', 'اليوناني', 'للرياضيات', 'جوهرها', 'هندسة', 'الجبر', 'نظرية', 'موحدة', 'تتيح', 'الأعداد', 'الكسرية', 'الأعداد', 'اللا', 'كسرية', 'قدم', 'وسيلة', 'للتنمية', 'الموضوع', 'مستقبلا', 'جانب', 'آخر', 'مهم', 'لإدخال', 'أفكار', 'الجبر', 'سمح', 'بتطبيق', 'الرياضيات', 'نفسها', 'بطريقة', 'تحدث']\n"
     ]
    }
   ],
   "source": [
    "nlp = Arabic()\n",
    "x2=\"ربما كانت أحد أهم التطورات التي قامت بها الرياضيات العربية التي بدأت في هذا الوقت بعمل الخوارزمي و هي بدايات الجبر، و من المهم فهم كيف كانت هذه الفكرة الجديدة مهمة، فقد كانت خطوة ثورية بعيدا عن المفهوم اليوناني للرياضيات التي هي في جوهرها هندسة، الجبر كان نظرية موحدة تتيح الأعداد الكسرية و الأعداد اللا كسرية، و قدم وسيلة للتنمية في هذا الموضوع مستقبلا. و جانب آخر مهم لإدخال أفكار الجبر و هو أنه سمح بتطبيق الرياضيات على نفسها بطريقة لم تحدث من قبل\"\n",
    "doc2 = nlp(x2)\n",
    "\n",
    "tokens2= [token.text for token in doc2]\n",
    "print(tokens2)\n",
    "print(\"\\n\\n\")\n",
    "lemma2= [[token.text,token.lemma_] for token in doc2]\n",
    "print(lemma2)\n",
    "print(\"\\n\\n\")\n",
    "\n",
    "filtered2 = [token.text for token in doc2 if token.is_stop==False and token.text.isalpha()==True]\n",
    "print(filtered2)"
   ]
  },
  {
   "cell_type": "code",
   "execution_count": null,
   "id": "4cb659a9",
   "metadata": {},
   "outputs": [],
   "source": []
  }
 ],
 "metadata": {
  "kernelspec": {
   "display_name": "Python 3 (ipykernel)",
   "language": "python",
   "name": "python3"
  },
  "language_info": {
   "codemirror_mode": {
    "name": "ipython",
    "version": 3
   },
   "file_extension": ".py",
   "mimetype": "text/x-python",
   "name": "python",
   "nbconvert_exporter": "python",
   "pygments_lexer": "ipython3",
   "version": "3.8.0"
  }
 },
 "nbformat": 4,
 "nbformat_minor": 5
}
