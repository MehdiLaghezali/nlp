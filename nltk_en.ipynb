{
 "cells": [
  {
   "cell_type": "code",
   "execution_count": 3,
   "id": "8f8d3095",
   "metadata": {},
   "outputs": [
    {
     "name": "stdout",
     "output_type": "stream",
     "text": [
      "Perhaps one of the most significant advances made by Arabic mathematics began at this time with the work of al-Khwarizmi, namely the beginnings of algebra. It is important to understand just how significant this new idea was. It was a revolutionary move away from the Greek concept of mathematics which was essentially geometry. Algebra was a unifying theory which allowed rational numbers,irrational numbers, geometrical magnitudes, etc., to all be treated as algebraic objects. It gave mathematics a whole new development path so much broader in concept to that which had existed before, and provided a vehicle for future development of the subject. Another important aspect of the introduction of algebraic ideas was that it allowed mathematics to be applied to itselfin a way which had not happened before.\n",
      "perhaps one of the most significant advances made by arabic mathematics began at this time with the work of alkhwarizmi namely the beginnings of algebra it is important to understand just how significant this new idea was it was a revolutionary move away from the greek concept of mathematics which was essentially geometry algebra was a unifying theory which allowed rational numbersirrational numbers geometrical magnitudes etc to all be treated as algebraic objects it gave mathematics a whole new development path so much broader in concept to that which had existed before and provided a vehicle for future development of the subject another important aspect of the introduction of algebraic ideas was that it allowed mathematics to be applied to itselfin a way which had not happened before\n",
      "['perhaps', 'one', 'of', 'the', 'most', 'significant', 'advances', 'made', 'by', 'arabic', 'mathematics', 'began', 'at', 'this', 'time', 'with', 'the', 'work', 'of', 'alkhwarizmi', 'namely', 'the', 'beginnings', 'of', 'algebra', 'it', 'is', 'important', 'to', 'understand', 'just', 'how', 'significant', 'this', 'new', 'idea', 'was', 'it', 'was', 'a', 'revolutionary', 'move', 'away', 'from', 'the', 'greek', 'concept', 'of', 'mathematics', 'which', 'was', 'essentially', 'geometry', 'algebra', 'was', 'a', 'unifying', 'theory', 'which', 'allowed', 'rational', 'numbersirrational', 'numbers', 'geometrical', 'magnitudes', 'etc', 'to', 'all', 'be', 'treated', 'as', 'algebraic', 'objects', 'it', 'gave', 'mathematics', 'a', 'whole', 'new', 'development', 'path', 'so', 'much', 'broader', 'in', 'concept', 'to', 'that', 'which', 'had', 'existed', 'before', 'and', 'provided', 'a', 'vehicle', 'for', 'future', 'development', 'of', 'the', 'subject', 'another', 'important', 'aspect', 'of', 'the', 'introduction', 'of', 'algebraic', 'ideas', 'was', 'that', 'it', 'allowed', 'mathematics', 'to', 'be', 'applied', 'to', 'itselfin', 'a', 'way', 'which', 'had', 'not', 'happened', 'before']\n",
      "['i', 'me', 'my', 'myself', 'we', 'our', 'ours', 'ourselves', 'you', \"you're\", \"you've\", \"you'll\", \"you'd\", 'your', 'yours', 'yourself', 'yourselves', 'he', 'him', 'his', 'himself', 'she', \"she's\", 'her', 'hers', 'herself', 'it', \"it's\", 'its', 'itself', 'they', 'them', 'their', 'theirs', 'themselves', 'what', 'which', 'who', 'whom', 'this', 'that', \"that'll\", 'these', 'those', 'am', 'is', 'are', 'was', 'were', 'be', 'been', 'being', 'have', 'has', 'had', 'having', 'do', 'does', 'did', 'doing', 'a', 'an', 'the', 'and', 'but', 'if', 'or', 'because', 'as', 'until', 'while', 'of', 'at', 'by', 'for', 'with', 'about', 'against', 'between', 'into', 'through', 'during', 'before', 'after', 'above', 'below', 'to', 'from', 'up', 'down', 'in', 'out', 'on', 'off', 'over', 'under', 'again', 'further', 'then', 'once', 'here', 'there', 'when', 'where', 'why', 'how', 'all', 'any', 'both', 'each', 'few', 'more', 'most', 'other', 'some', 'such', 'no', 'nor', 'not', 'only', 'own', 'same', 'so', 'than', 'too', 'very', 's', 't', 'can', 'will', 'just', 'don', \"don't\", 'should', \"should've\", 'now', 'd', 'll', 'm', 'o', 're', 've', 'y', 'ain', 'aren', \"aren't\", 'couldn', \"couldn't\", 'didn', \"didn't\", 'doesn', \"doesn't\", 'hadn', \"hadn't\", 'hasn', \"hasn't\", 'haven', \"haven't\", 'isn', \"isn't\", 'ma', 'mightn', \"mightn't\", 'mustn', \"mustn't\", 'needn', \"needn't\", 'shan', \"shan't\", 'shouldn', \"shouldn't\", 'wasn', \"wasn't\", 'weren', \"weren't\", 'won', \"won't\", 'wouldn', \"wouldn't\"]\n",
      "['perhaps', 'one', 'significant', 'advances', 'made', 'arabic', 'mathematics', 'began', 'time', 'work', 'alkhwarizmi', 'namely', 'beginnings', 'algebra', 'important', 'understand', 'significant', 'new', 'idea', 'revolutionary', 'move', 'away', 'greek', 'concept', 'mathematics', 'essentially', 'geometry', 'algebra', 'unifying', 'theory', 'allowed', 'rational', 'numbersirrational', 'numbers', 'geometrical', 'magnitudes', 'etc', 'treated', 'algebraic', 'objects', 'gave', 'mathematics', 'whole', 'new', 'development', 'path', 'much', 'broader', 'concept', 'existed', 'provided', 'vehicle', 'future', 'development', 'subject', 'another', 'important', 'aspect', 'introduction', 'algebraic', 'ideas', 'allowed', 'mathematics', 'applied', 'itselfin', 'way', 'happened']\n",
      "['perhap', 'one', 'signific', 'advanc', 'made', 'arab', 'mathemat', 'began', 'time', 'work', 'alkhwarizmi', 'name', 'begin', 'algebra', 'import', 'understand', 'signific', 'new', 'idea', 'revolutionari', 'move', 'away', 'greek', 'concept', 'mathemat', 'essenti', 'geometri', 'algebra', 'unifi', 'theori', 'allow', 'ration', 'numbersirr', 'number', 'geometr', 'magnitud', 'etc', 'treat', 'algebra', 'object', 'gave', 'mathemat', 'whole', 'new', 'develop', 'path', 'much', 'broader', 'concept', 'exist', 'provid', 'vehicl', 'futur', 'develop', 'subject', 'anoth', 'import', 'aspect', 'introduct', 'algebra', 'idea', 'allow', 'mathemat', 'appli', 'itselfin', 'way', 'happen']\n",
      "[('perhaps', 'RB'), ('one', 'CD'), ('significant', 'JJ'), ('advances', 'NNS'), ('made', 'VBN'), ('arabic', 'JJ'), ('mathematics', 'NNS'), ('began', 'VBD'), ('time', 'NN'), ('work', 'NN'), ('alkhwarizmi', 'RB'), ('namely', 'RB'), ('beginnings', 'JJ'), ('algebra', 'NN'), ('important', 'JJ'), ('understand', 'NN'), ('significant', 'JJ'), ('new', 'JJ'), ('idea', 'NN'), ('revolutionary', 'JJ'), ('move', 'VB'), ('away', 'RB'), ('greek', 'JJ'), ('concept', 'NN'), ('mathematics', 'NNS'), ('essentially', 'RB'), ('geometry', 'VBP'), ('algebra', 'JJ'), ('unifying', 'VBG'), ('theory', 'NN'), ('allowed', 'VBN'), ('rational', 'JJ'), ('numbersirrational', 'JJ'), ('numbers', 'NNS'), ('geometrical', 'JJ'), ('magnitudes', 'NNS'), ('etc', 'VBP'), ('treated', 'VBN'), ('algebraic', 'JJ'), ('objects', 'NNS'), ('gave', 'VBD'), ('mathematics', 'NNS'), ('whole', 'JJ'), ('new', 'JJ'), ('development', 'NN'), ('path', 'NN'), ('much', 'JJ'), ('broader', 'JJR'), ('concept', 'NN'), ('existed', 'VBD'), ('provided', 'JJ'), ('vehicle', 'NN'), ('future', 'NN'), ('development', 'NN'), ('subject', 'NN'), ('another', 'DT'), ('important', 'JJ'), ('aspect', 'NN'), ('introduction', 'NN'), ('algebraic', 'IN'), ('ideas', 'NNS'), ('allowed', 'VBN'), ('mathematics', 'NNS'), ('applied', 'VBD'), ('itselfin', 'JJ'), ('way', 'NN'), ('happened', 'VBD')]\n"
     ]
    }
   ],
   "source": [
    "import nltk\n",
    "#nltk.download('punkt')\n",
    "#nltk.download('stopwords')\n",
    "#nltk.download('averaged_perceptron_tagger')\n",
    "#nltk.download('treebank')\n",
    "from nltk import word_tokenize\n",
    "from nltk.corpus import stopwords\n",
    "from nltk.stem.porter import PorterStemmer\n",
    "from nltk import pos_tag\n",
    "from nltk.corpus import treebank\n",
    "import string\n",
    "\n",
    "text=\"Perhaps one of the most significant advances made by Arabic mathematics began at this time with the work of al-Khwarizmi, namely the beginnings of algebra. It is important to understand just how significant this new idea was. It was a revolutionary move away from the Greek concept of mathematics which was essentially geometry. Algebra was a unifying theory which allowed rational numbers,irrational numbers, geometrical magnitudes, etc., to all be treated as algebraic objects. It gave mathematics a whole new development path so much broader in concept to that which had existed before, and provided a vehicle for future development of the subject. Another important aspect of the introduction of algebraic ideas was that it allowed mathematics to be applied to itselfin a way which had not happened before.\"\n",
    "print(text)\n",
    "text=text.lower()\n",
    "textt=[char for char in text if char not in string.punctuation]\n",
    "text=\"\".join(textt)\n",
    "\n",
    "text_words=word_tokenize(text)\n",
    "\n",
    "stop_words=stopwords.words('english')\n",
    "\n",
    "filtered_words = [word for word in text_words if word not in stop_words]\n",
    "\n",
    "porter = PorterStemmer()\n",
    "stemmed = [porter.stem(word) for word in filtered_words]\n",
    "\n",
    "pos = pos_tag(filtered_words)\n",
    "\n",
    "#t = treebank.parsed_sents(\"text.txt\")\n",
    "#t.draw()\n",
    "\n",
    "print(text)\n",
    "print(text_words)\n",
    "print(stop_words)\n",
    "print(filtered_words)\n",
    "print(stemmed)\n",
    "print(pos)\n"
   ]
  },
  {
   "cell_type": "code",
   "execution_count": null,
   "id": "86aa1463",
   "metadata": {},
   "outputs": [],
   "source": []
  }
 ],
 "metadata": {
  "kernelspec": {
   "display_name": "Python 3 (ipykernel)",
   "language": "python",
   "name": "python3"
  },
  "language_info": {
   "codemirror_mode": {
    "name": "ipython",
    "version": 3
   },
   "file_extension": ".py",
   "mimetype": "text/x-python",
   "name": "python",
   "nbconvert_exporter": "python",
   "pygments_lexer": "ipython3",
   "version": "3.8.0"
  }
 },
 "nbformat": 4,
 "nbformat_minor": 5
}
